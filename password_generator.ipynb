{
 "cells": [
  {
   "cell_type": "code",
   "execution_count": 1,
   "id": "dbb2f5f8-3e1a-4c58-a016-e9ce289bb259",
   "metadata": {},
   "outputs": [],
   "source": [
    "import random\n",
    "import string"
   ]
  },
  {
   "cell_type": "code",
   "execution_count": 7,
   "id": "b1ca968f-f1fd-444d-90ec-3a1abeaf3e90",
   "metadata": {},
   "outputs": [
    {
     "name": "stdout",
     "output_type": "stream",
     "text": [
      "abcdefghijklmnopqrstuvwxyzABCDEFGHIJKLMNOPQRSTUVWXYZ 0123456789 !\"#$%&'()*+,-./:;<=>?@[\\]^_`{|}~\n"
     ]
    }
   ],
   "source": [
    "def generate_password(min_length, numbers=True, special_characters=True):\n",
    "    letters =  string.ascii_letters\n",
    "    digits =  string.digits\n",
    "    special = string.punctuation\n",
    "\n",
    "    characters = letter\n",
    "    if numbers:\n",
    "        character += digits\n",
    "    if special_characters:\n",
    "        character += special\n",
    "\n",
    "    \n",
    "\n",
    "generate_password(10)"
   ]
  },
  {
   "cell_type": "code",
   "execution_count": null,
   "id": "c6be1292-faf4-40a4-a06c-3efe09d05463",
   "metadata": {},
   "outputs": [],
   "source": []
  }
 ],
 "metadata": {
  "kernelspec": {
   "display_name": "Python 3 (ipykernel)",
   "language": "python",
   "name": "python3"
  },
  "language_info": {
   "codemirror_mode": {
    "name": "ipython",
    "version": 3
   },
   "file_extension": ".py",
   "mimetype": "text/x-python",
   "name": "python",
   "nbconvert_exporter": "python",
   "pygments_lexer": "ipython3",
   "version": "3.12.4"
  }
 },
 "nbformat": 4,
 "nbformat_minor": 5
}
