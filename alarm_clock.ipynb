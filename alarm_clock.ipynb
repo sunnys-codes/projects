{
 "cells": [
  {
   "cell_type": "code",
   "execution_count": 33,
   "id": "c46e5d0f-9354-44ca-b252-d7c35c9b7ba1",
   "metadata": {},
   "outputs": [
    {
     "name": "stdout",
     "output_type": "stream",
     "text": [
      "Collecting pygame\n",
      "  Downloading pygame-2.6.0-cp312-cp312-win_amd64.whl.metadata (13 kB)\n",
      "Downloading pygame-2.6.0-cp312-cp312-win_amd64.whl (10.8 MB)\n",
      "   ---------------------------------------- 0.0/10.8 MB ? eta -:--:--\n",
      "   ---------------------------------------- 0.0/10.8 MB 682.7 kB/s eta 0:00:16\n",
      "   ---------------------------------------- 0.0/10.8 MB 435.7 kB/s eta 0:00:25\n",
      "   ---------------------------------------- 0.1/10.8 MB 737.3 kB/s eta 0:00:15\n",
      "   - -------------------------------------- 0.3/10.8 MB 1.8 MB/s eta 0:00:06\n",
      "   -- ------------------------------------- 0.6/10.8 MB 2.9 MB/s eta 0:00:04\n",
      "   --- ------------------------------------ 0.9/10.8 MB 3.4 MB/s eta 0:00:03\n",
      "   ---- ----------------------------------- 1.2/10.8 MB 3.7 MB/s eta 0:00:03\n",
      "   ----- ---------------------------------- 1.4/10.8 MB 3.9 MB/s eta 0:00:03\n",
      "   ----- ---------------------------------- 1.6/10.8 MB 3.9 MB/s eta 0:00:03\n",
      "   ------- -------------------------------- 1.9/10.8 MB 4.2 MB/s eta 0:00:03\n",
      "   ------- -------------------------------- 2.2/10.8 MB 4.3 MB/s eta 0:00:03\n",
      "   --------- ------------------------------ 2.4/10.8 MB 4.4 MB/s eta 0:00:02\n",
      "   ---------- ----------------------------- 2.7/10.8 MB 4.5 MB/s eta 0:00:02\n",
      "   ----------- ---------------------------- 3.0/10.8 MB 4.7 MB/s eta 0:00:02\n",
      "   ------------ --------------------------- 3.3/10.8 MB 4.7 MB/s eta 0:00:02\n",
      "   ------------- -------------------------- 3.6/10.8 MB 4.9 MB/s eta 0:00:02\n",
      "   -------------- ------------------------- 3.9/10.8 MB 4.9 MB/s eta 0:00:02\n",
      "   -------------- ------------------------- 4.0/10.8 MB 4.9 MB/s eta 0:00:02\n",
      "   --------------- ------------------------ 4.2/10.8 MB 4.8 MB/s eta 0:00:02\n",
      "   --------------- ------------------------ 4.2/10.8 MB 4.6 MB/s eta 0:00:02\n",
      "   ---------------- ----------------------- 4.4/10.8 MB 4.7 MB/s eta 0:00:02\n",
      "   ----------------- ---------------------- 4.7/10.8 MB 4.6 MB/s eta 0:00:02\n",
      "   ------------------ --------------------- 4.9/10.8 MB 4.6 MB/s eta 0:00:02\n",
      "   ------------------- -------------------- 5.2/10.8 MB 4.7 MB/s eta 0:00:02\n",
      "   -------------------- ------------------- 5.4/10.8 MB 4.7 MB/s eta 0:00:02\n",
      "   --------------------- ------------------ 5.7/10.8 MB 4.7 MB/s eta 0:00:02\n",
      "   --------------------- ------------------ 5.8/10.8 MB 4.6 MB/s eta 0:00:02\n",
      "   ---------------------- ----------------- 6.0/10.8 MB 4.6 MB/s eta 0:00:02\n",
      "   ---------------------- ----------------- 6.1/10.8 MB 4.5 MB/s eta 0:00:02\n",
      "   ----------------------- ---------------- 6.3/10.8 MB 4.6 MB/s eta 0:00:01\n",
      "   ----------------------- ---------------- 6.5/10.8 MB 4.5 MB/s eta 0:00:01\n",
      "   ------------------------ --------------- 6.7/10.8 MB 4.5 MB/s eta 0:00:01\n",
      "   ------------------------- -------------- 6.9/10.8 MB 4.5 MB/s eta 0:00:01\n",
      "   -------------------------- ------------- 7.1/10.8 MB 4.5 MB/s eta 0:00:01\n",
      "   --------------------------- ------------ 7.3/10.8 MB 4.5 MB/s eta 0:00:01\n",
      "   --------------------------- ------------ 7.5/10.8 MB 4.4 MB/s eta 0:00:01\n",
      "   ---------------------------- ----------- 7.7/10.8 MB 4.4 MB/s eta 0:00:01\n",
      "   ---------------------------- ----------- 7.8/10.8 MB 4.4 MB/s eta 0:00:01\n",
      "   ----------------------------- ---------- 8.0/10.8 MB 4.4 MB/s eta 0:00:01\n",
      "   ------------------------------ --------- 8.2/10.8 MB 4.4 MB/s eta 0:00:01\n",
      "   ------------------------------- -------- 8.4/10.8 MB 4.4 MB/s eta 0:00:01\n",
      "   ------------------------------- -------- 8.5/10.8 MB 4.4 MB/s eta 0:00:01\n",
      "   -------------------------------- ------- 8.8/10.8 MB 4.4 MB/s eta 0:00:01\n",
      "   --------------------------------- ------ 9.0/10.8 MB 4.4 MB/s eta 0:00:01\n",
      "   ---------------------------------- ----- 9.2/10.8 MB 4.3 MB/s eta 0:00:01\n",
      "   ----------------------------------- ---- 9.4/10.8 MB 4.4 MB/s eta 0:00:01\n",
      "   ------------------------------------ --- 9.7/10.8 MB 4.4 MB/s eta 0:00:01\n",
      "   ------------------------------------- -- 10.0/10.8 MB 4.4 MB/s eta 0:00:01\n",
      "   ------------------------------------- -- 10.1/10.8 MB 4.4 MB/s eta 0:00:01\n",
      "   -------------------------------------- - 10.2/10.8 MB 4.4 MB/s eta 0:00:01\n",
      "   -------------------------------------- - 10.4/10.8 MB 4.6 MB/s eta 0:00:01\n",
      "   ---------------------------------------  10.6/10.8 MB 4.6 MB/s eta 0:00:01\n",
      "   ---------------------------------------  10.7/10.8 MB 4.5 MB/s eta 0:00:01\n",
      "   ---------------------------------------  10.8/10.8 MB 4.5 MB/s eta 0:00:01\n",
      "   ---------------------------------------- 10.8/10.8 MB 4.3 MB/s eta 0:00:00\n",
      "Installing collected packages: pygame\n",
      "Successfully installed pygame-2.6.0\n",
      "Note: you may need to restart the kernel to use updated packages.\n"
     ]
    }
   ],
   "source": [
    "pip install pygame"
   ]
  },
  {
   "cell_type": "code",
   "execution_count": 35,
   "id": "91389043-b277-4e64-bf3a-64f89899c95a",
   "metadata": {},
   "outputs": [
    {
     "name": "stdout",
     "output_type": "stream",
     "text": [
      "pygame 2.6.0 (SDL 2.28.4, Python 3.12.4)\n",
      "Hello from the pygame community. https://www.pygame.org/contribute.html\n"
     ]
    }
   ],
   "source": [
    "import pygame\n",
    "\n",
    "pygame.mixer.init()\n",
    "pygame.mixer.music.load(\"Alarm-Fast-High-Pitch-A3-Ring-Tone-www.fesliyanstudios.com.mp3\")\n",
    "pygame.mixer.music.play()\n",
    "\n",
    "while pygame.mixer.music.get_busy():  # Wait for the music to finish playing\n",
    "    pygame.time.Clock().tick(10)"
   ]
  },
  {
   "cell_type": "code",
   "execution_count": 37,
   "id": "3e42540c-4494-4d65-8277-37f0db1f098d",
   "metadata": {},
   "outputs": [],
   "source": [
    "import time"
   ]
  },
  {
   "cell_type": "code",
   "execution_count": 53,
   "id": "51b51950-54ca-475f-9328-9d02f8b2d856",
   "metadata": {},
   "outputs": [
    {
     "name": "stdin",
     "output_type": "stream",
     "text": [
      "How many minutes to wait:  0\n",
      "How many seconds to wait:  12\n"
     ]
    },
    {
     "name": "stdout",
     "output_type": "stream",
     "text": [
      "Alarm will sound in: 00:01\n",
      "Time's up! Playing alarm...\n"
     ]
    }
   ],
   "source": [
    "# I'm defining a function named 'alarm' that takes 'time_left' as an argument.\n",
    "def alarm(time_left):\n",
    "    # I want this loop to run until 'time_left' reaches zero.\n",
    "    while time_left:\n",
    "        # Here, I'm calculating the minutes and seconds remaining.\n",
    "        minutes_left = time_left // 60\n",
    "        seconds_left = time_left % 60\n",
    "        # I print the countdown in the format 'mm:ss'. \n",
    "        # The '\\r' moves the cursor back to the start of the line, so each update overwrites the previous one.\n",
    "        # 'flush=True' ensures the output is updated in real-time.\n",
    "        print(f'\\rAlarm will sound in: {minutes_left:02d}:{seconds_left:02d}', end='', flush=True)\n",
    "        # I pause the loop for one second to create the countdown effect.\n",
    "        time.sleep(1)\n",
    "        # I reduce 'time_left' by 1 each loop iteration.\n",
    "        time_left -= 1\n",
    "\n",
    "    # Once the countdown reaches zero, I print a message indicating the alarm is going off.\n",
    "    print(\"\\nTime's up! Playing alarm...\")\n",
    "\n",
    "    # I initialize the pygame mixer, which I'll use to play the alarm sound.\n",
    "    pygame.mixer.init()\n",
    "    # I load the sound file that I want to play as the alarm.\n",
    "    pygame.mixer.music.load(\"Alarm-Fast-High-Pitch-A3-Ring-Tone-www.fesliyanstudios.com.mp3\")\n",
    "    # I play the loaded sound file.\n",
    "    pygame.mixer.music.play()\n",
    "\n",
    "    # This loop keeps the program running until the music finishes playing.\n",
    "    while pygame.mixer.music.get_busy():\n",
    "        # I use a clock to limit the loop to tick 10 times per second, preventing it from using too much CPU.\n",
    "        pygame.time.Clock().tick(10)\n",
    "\n",
    "# Here, I'm asking the user for the number of minutes and seconds to wait.\n",
    "minutes = int(input(\"How many minutes to wait: \"))\n",
    "seconds = int(input(\"How many seconds to wait: \"))\n",
    "# I convert the total time to seconds since the alarm function works with seconds.\n",
    "total_seconds = minutes * 60 + seconds\n",
    "# I call the 'alarm' function with the total time in seconds.\n",
    "alarm(total_seconds)\n"
   ]
  },
  {
   "cell_type": "code",
   "execution_count": null,
   "id": "c6122501-819c-4687-9ab8-68a3e40f3ef5",
   "metadata": {},
   "outputs": [],
   "source": []
  }
 ],
 "metadata": {
  "kernelspec": {
   "display_name": "Python 3 (ipykernel)",
   "language": "python",
   "name": "python3"
  },
  "language_info": {
   "codemirror_mode": {
    "name": "ipython",
    "version": 3
   },
   "file_extension": ".py",
   "mimetype": "text/x-python",
   "name": "python",
   "nbconvert_exporter": "python",
   "pygments_lexer": "ipython3",
   "version": "3.12.4"
  }
 },
 "nbformat": 4,
 "nbformat_minor": 5
}
